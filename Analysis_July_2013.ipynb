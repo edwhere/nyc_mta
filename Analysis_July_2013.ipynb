{
 "cells": [
  {
   "cell_type": "markdown",
   "metadata": {},
   "source": [
    "<h2>Turnstile Usage for July 2013</h2>\n",
    "\n",
    "The data set consits of entry and exit counters measured every four hours at every turnstile available in stations in the NYC Subway System. <p>\n",
    "\n",
    "The format of the data for the 2013 measurements is described here: http://web.mta.info/developers/resources/nyct/turnstile/ts_Field_Description_pre-10-18-2014.txt <p>\n",
    "\n",
    "In this exercise we define a score for \"turnstile busy-ness\" which is the sum of entries and exits for one turnstile at a given period of time. A score for \"station busy-ness\" is defined as the sum of the values for each of its turnstile machines. <p>\n",
    "\n",
    "This document computes the busiest and least-busy stations for July 2013. \n",
    "\n",
    "The following link provides the list of web documents containing the data: http://web.mta.info/developers/turnstile.html"
   ]
  },
  {
   "cell_type": "markdown",
   "metadata": {},
   "source": [
    "<h4>Software Description</h4>\n",
    "The <b>filtered_data_frame()</b> function takes a URL pointing to raw data and generates a pandas dataframe with entry and exit numbers for all turnstile machines for a particular day and time. This function has the following arguments: <p>\n",
    "\n",
    "Args: <p>\n",
    "<b>target_url</b>: (str) URL pointing to one of the raw data files<p>\n",
    "<b>day</b>: (str) The target day for which we investigate turnstile data. Format: MM-DD-YY<p>\n",
    "<b>time</b>: (str) The target time for which we investigate turnstile data. Format: HH-00-00<p>\n",
    "<b>num_lines</b>: (int) The number of lines that the function scans in the raw-data file. A value of -1 indicates all lines. <p>\n",
    "Returns:<p>\n",
    "A pandas dataframe whose columns are identified by the following strings: <p>\n",
    "\"ca\", \"unit\", \"scp\", \"month\", \"day\", \"year\", \"hour\", \"ent\", \"exit\"<p>\n",
    "\n",
    "Columns \"ca\", \"unit\" and \"scp\" hold string values identifying respectively the station, the unit within the station, and the turnstile machine. Columns \"month\", \"day\", \"year\" and \"hour\" hold integers identifying the target day/time for turnstile data. Finally columns \"ent\" and \"exit\" hold integers that correspond to the count of entries and count of exits at the specifed day/time. \n"
   ]
  },
  {
   "cell_type": "code",
   "execution_count": 1,
   "metadata": {
    "collapsed": true
   },
   "outputs": [],
   "source": [
    "import urllib2\n",
    "import pandas as pd\n",
    "\n",
    "constants = {\"url_0803\": \"http://web.mta.info/developers/data/nyct/turnstile/turnstile_130803.txt\",\n",
    "             \"url_0703\": \"http://web.mta.info/developers/data/nyct/turnstile/turnstile_130706.txt\"}\n",
    "\n",
    "\n",
    "def filtered_dataframe(target_url, day, time, num_lines):\n",
    "    webdata = urllib2.urlopen(target_url)\n",
    "\n",
    "    filtered_data = []\n",
    "    line_counter = 0\n",
    "    for line in webdata:\n",
    "        values = line.strip().split(\",\")\n",
    "\n",
    "        temp_array = convert_to_array2(values, day, time)\n",
    "\n",
    "        filtered_data.extend(temp_array)\n",
    "\n",
    "        if num_lines != -1 and line_counter >= num_lines:\n",
    "            break\n",
    "        else:\n",
    "            line_counter += 1\n",
    "\n",
    "    print \"[Info] Total number of scanned lines: \", line_counter\n",
    "\n",
    "    return pd.DataFrame(filtered_data, columns=[\"ca\", \"unit\", \"scp\", \"month\", \"day\", \"year\", \"hour\", \"ent\", \"exit\" ])"
   ]
  },
  {
   "cell_type": "markdown",
   "metadata": {},
   "source": [
    "The <b>convert_to_array2()</b> function is a helper function invoked from the <b>filtered_dataframe()</b> function. The <b>convert_to_array2()</b> function actually searches for turnstile information for the target day and time in the raw-data file and returns the data as an array of lists. Each list in the array contains a single measurement for a turnstile machine. "
   ]
  },
  {
   "cell_type": "code",
   "execution_count": 2,
   "metadata": {
    "collapsed": true
   },
   "outputs": [],
   "source": [
    "def convert_to_array2(values, day, time):\n",
    "    reduced = []\n",
    "    sta = values[0]\n",
    "    unit = values[1]\n",
    "    scp = values[2]\n",
    "\n",
    "    for i in range(3, len(values), 5):\n",
    "        vec = values[i:i+5]\n",
    "\n",
    "        if vec[0] == day and vec[1] == time and vec[2] == 'REGULAR':\n",
    "            monval, dayval, yearval = [int(val) for val in day.split(\"-\")]\n",
    "            timeval = int(time.split(\":\")[0])\n",
    "            filtered_data = [sta, unit, scp, monval, dayval, yearval, timeval, int(vec[3]), int(vec[4])]\n",
    "            reduced.append(filtered_data)\n",
    "\n",
    "    return reduced"
   ]
  },
  {
   "cell_type": "markdown",
   "metadata": {},
   "source": [
    "The following process invokes the <b>filtered_dataframe()</b> function twice. The first call requests all data for 7/1/13 at time 00:00. The second call requests all data for 8/1/13 at time 00:00. Then, we use pandas <b>merge()</b> method to join the two data sources. Finally we calculate the differece in entry counters to measure the actual number of entries during July. Similarly, we calsulate the difference in exit counters to measure the actual number of exits during July. We also compute the \"busy-ness\" metric as the sum of entries and exits. "
   ]
  },
  {
   "cell_type": "code",
   "execution_count": 3,
   "metadata": {
    "collapsed": false
   },
   "outputs": [
    {
     "name": "stdout",
     "output_type": "stream",
     "text": [
      "[Info] Total number of scanned lines:  30964\n",
      "[Info] Total data records from the initial data source:  2357\n",
      "[Info] Total number of scanned lines:  29427\n",
      "[Info] Total data records from the ending data source:  2360\n",
      "[Info] Merging the initial and final data sources using 'ca', 'unit', and 'scp' as the key...\n"
     ]
    }
   ],
   "source": [
    "nlines = -1\n",
    "\n",
    "res1 = filtered_dataframe(constants[\"url_0703\"], day=\"07-01-13\", time=\"00:00:00\", num_lines=nlines)\n",
    "\n",
    "print \"[Info] Total data records from the initial data source: \", res1.shape[0]\n",
    "\n",
    "res2 = filtered_dataframe(constants[\"url_0803\"], day=\"08-01-13\", time=\"00:00:00\", num_lines=nlines)\n",
    "\n",
    "print \"[Info] Total data records from the ending data source: \", res2.shape[0]\n",
    "\n",
    "# print res1\n",
    "\n",
    "# print res2\n",
    "print \"[Info] Merging the initial and final data sources using 'ca', 'unit', and 'scp' as the key...\"\n",
    "mdf = pd.merge(res1, res2, on=[\"ca\", \"unit\", \"scp\"])\n",
    "\n",
    "# print \"-------------------- MDF -------------------------------------------\"\n",
    "# print mdf\n",
    "\n",
    "mdf[\"ent_diff\"] = mdf[\"ent_y\"] - mdf[\"ent_x\"]\n",
    "mdf[\"exit_diff\"] = mdf[\"exit_y\"] - mdf[\"exit_x\"]\n",
    "mdf[\"busy\"] = mdf[\"ent_diff\"] + mdf[\"exit_diff\"]\n"
   ]
  },
  {
   "cell_type": "markdown",
   "metadata": {},
   "source": [
    "The following code segment determines if there are machines whose entry counter for 8/1 is smaller than than for 7/1. These machines have had their counters reset, which often signals a problem with the machine. The data from these machines is removed from the data set. The program displays the list of machines whose data is being removed.<p>\n",
    "\n",
    "After removing data based on reset problems with the entry counter, the code does the same thing for the exit counter. If there are machines whose exit counter has been reset during this month, the code removes their data from the data set. The code prints a list of machines removed due to problems with a reset in their exit counters. "
   ]
  },
  {
   "cell_type": "code",
   "execution_count": 5,
   "metadata": {
    "collapsed": false
   },
   "outputs": [
    {
     "name": "stdout",
     "output_type": "stream",
     "text": [
      "[Note] Machines that had a reset of the entry counter. Data for these machines will be removed:\n",
      "         ca  unit       scp    ent_x    ent_y\n",
      "438    H016  R250  00-00-01   587823     1916\n",
      "444    H019  R294  00-00-01   550398    19089\n",
      "639    N057  R188  00-03-00  1016029     9931\n",
      "674   N063A  R011  00-00-09  9908932     1297\n",
      "703    N070  R012  04-00-01   413508     4231\n",
      "788    N094  R029  01-00-01  2740810    14315\n",
      "1002   N324  R018  00-02-00     1719        8\n",
      "1006   N324  R018  00-03-02  8004575    21481\n",
      "1153  N408A  R256  00-03-00  2125498    25440\n",
      "1170   N422  R318  00-05-01        8        0\n",
      "1730   R210  R044  00-06-00  1259990    18959\n",
      "1809   R244  R050  00-06-00  4244577  2552875\n",
      "2026   R512  R092  00-00-02  1799443     8767\n",
      "2190   R608  R056  00-03-02  4697007     6743\n",
      "[Note] Remaining machines showing a reset of the exit counter. Data for these machines will be removed:\n",
      "        ca  unit       scp   exit_x  exit_y\n",
      "2270  R625  R062  01-06-00  2303327     576\n"
     ]
    }
   ],
   "source": [
    "# Process machines whose entry counts during the interval show negative values\n",
    "reset1 = mdf[mdf[\"ent_diff\"] < 0]\n",
    "if len(reset1) > 0:\n",
    "    print \"[Note] Machines that had a reset of the entry counter. Data for these machines will be removed:\"\n",
    "    print reset1[[\"ca\", \"unit\", \"scp\", \"ent_x\", \"ent_y\"]]\n",
    "    mdf2 = mdf[mdf[\"ent_diff\"] > 0]\n",
    "else:\n",
    "    mdf2 = mdf\n",
    "\n",
    "\n",
    "# Process machines whose exit counts during the interval show negative values\n",
    "reset2 = mdf2[mdf2[\"exit_diff\"] < 0]\n",
    "if len(reset2) > 0:\n",
    "    print \"[Note] Remaining machines showing a reset of the exit counter. Data for these machines will be removed:\"\n",
    "    print reset2[[\"ca\", \"unit\", \"scp\", \"exit_x\", \"exit_y\"]]\n",
    "    mdf3 = mdf2[mdf2[\"exit_diff\"] > 0]\n",
    "else:\n",
    "    mdf3 = mdf2"
   ]
  },
  {
   "cell_type": "markdown",
   "metadata": {},
   "source": [
    "After excluding data from machines whose entry and exit counters have been reset, we are ready to compute which station was the busiest for the month of July, and which station whas the least busy during the same time period. We group the data set by station (\"ca\" column), and sum the values in the \"busy\" column. <p>\n",
    "\n",
    "The previous operation gives a list of stations and their aggregated busy scores (in the form of pandas Series). We can now select the maximum and minimum from this series and display the results."
   ]
  },
  {
   "cell_type": "code",
   "execution_count": 7,
   "metadata": {
    "collapsed": false
   },
   "outputs": [
    {
     "name": "stdout",
     "output_type": "stream",
     "text": [
      "--------------------------------------------------------------------\n",
      "\n",
      "[Result] The busiest station on July is  R238\n",
      "[Result] The busy score for this station is  3292989\n",
      "\n",
      "[Result] The least-busy station on July is  N181A\n",
      "[Result] The busy score for this station is  265\n"
     ]
    }
   ],
   "source": [
    "print \"--------------------------------------------------------------------\"\n",
    "compdf = mdf3[[\"ca\", \"unit\", \"scp\", \"ent_diff\", \"exit_diff\", \"busy\"]]\n",
    "\n",
    "grouped = compdf.groupby(\"ca\")[\"busy\"].sum()\n",
    "# print grouped\n",
    "\n",
    "print \"\\n[Result] The busiest station on July is \", grouped.idxmax()\n",
    "print \"[Result] The busy score for this station is \", grouped[grouped.idxmax()]\n",
    "\n",
    "print \"\\n[Result] The least-busy station on July is \", grouped.idxmin()\n",
    "print \"[Result] The busy score for this station is \", grouped[grouped.idxmin()]"
   ]
  },
  {
   "cell_type": "code",
   "execution_count": null,
   "metadata": {
    "collapsed": true
   },
   "outputs": [],
   "source": []
  }
 ],
 "metadata": {
  "kernelspec": {
   "display_name": "Python [Root]",
   "language": "python",
   "name": "Python [Root]"
  },
  "language_info": {
   "codemirror_mode": {
    "name": "ipython",
    "version": 2
   },
   "file_extension": ".py",
   "mimetype": "text/x-python",
   "name": "python",
   "nbconvert_exporter": "python",
   "pygments_lexer": "ipython2",
   "version": "2.7.12"
  }
 },
 "nbformat": 4,
 "nbformat_minor": 0
}
