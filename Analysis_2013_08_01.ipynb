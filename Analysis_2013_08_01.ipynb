{
 "cells": [
  {
   "cell_type": "markdown",
   "metadata": {},
   "source": [
    "<h2>Turnstile Usage for Aug 1, 2013</h2>"
   ]
  },
  {
   "cell_type": "markdown",
   "metadata": {},
   "source": [
    "The data set consits of entry and exit counters measured every four hours at every turnstile available in stations in the NYC Subway System. \n",
    "\n",
    "The format of the data for the 2013 measurements is described here: http://web.mta.info/developers/resources/nyct/turnstile/ts_Field_Description_pre-10-18-2014.txt\n",
    "\n",
    "In this exercise we compute statistics for entry and exit counts for a single day: August 1st, 2013. The data samples collected for this day can be found here: \n",
    "http://web.mta.info/developers/data/nyct/turnstile/turnstile_130803.txt\n",
    "\n",
    "This exercise computes the following statistics: \n",
    "\n",
    "1) Total number of entries registered for 8/1/13\n",
    "2) Total number of exits registered for 8/1/13\n",
    "3) The busiest station for 8/1/13\n",
    "\n",
    "Because of turnstile problems, the statistics are approximate values. Data from turnstile machines that showed problems during the day are excluded from the computations.\n"
   ]
  },
  {
   "cell_type": "markdown",
   "metadata": {},
   "source": [
    "<h3> Software Description </h3>\n",
    "The function called <b>filtered_entries_exits_per_day()</b> extracts relevant data from raw data using a second function called <b>convert_to_array()</b>. The function looks at two entries: the counter values at 00:00 on 8/1 and at 00:00 on 8/2. The function discards records that are not deemed 'REGULAR' (i.e. records captured outside the nomral cycle). <p>\n",
    "Args: <p>\n",
    "    <b>target_url</b>: (string) The URL that contains the data for the specified day <p>\n",
    "    <b>day </b>: (string) The target day for analysis. It used raw-data format: MM-DD-YY. Example: 08-01-13 <p>\n",
    "    <b>num_lines</b>: (int) The number of lines to process. A value of -1 indicates all lines should be processed <p>\n",
    "Returns: <p>\n",
    "    An array of lists. Each list represents a measurement for a turnstile for the specified day at either time = 0 (00:00 on 8/1) or at time = 24 (00:00 on 8/2). Each list has the following ordered elements: <p>\n",
    "       \n",
    "      ca (string), unit (string), scp (string), day (integer), time (either 0 or 24), entries (int), exits (int)"
   ]
  },
  {
   "cell_type": "code",
   "execution_count": 73,
   "metadata": {
    "collapsed": true
   },
   "outputs": [],
   "source": [
    "import urllib2\n",
    "import pandas as pd\n",
    "\n",
    "constants = {\"url_0803\": \"http://web.mta.info/developers/data/nyct/turnstile/turnstile_130803.txt\"}\n",
    "\n",
    "def filtered_entries_exits_per_day(target_url, day, num_lines):\n",
    "    webdata = urllib2.urlopen(target_url)\n",
    "\n",
    "    filtered_data = []\n",
    "    line_counter = 0\n",
    "    for line in webdata:\n",
    "        values = line.strip().split(\",\")\n",
    "\n",
    "        temp_array = convert_to_array(values, day)\n",
    "        filtered_data.extend(temp_array)\n",
    "\n",
    "        if num_lines != -1 and line_counter >= num_lines:\n",
    "            break\n",
    "        else:\n",
    "            line_counter += 1\n",
    "\n",
    "    print \"[Info] Total number of lines: \", line_counter\n",
    "    return filtered_data"
   ]
  },
  {
   "cell_type": "code",
   "execution_count": 74,
   "metadata": {
    "collapsed": true
   },
   "outputs": [],
   "source": [
    "def convert_to_array(values, day):\n",
    "    reduced = []\n",
    "    sta = values[0]\n",
    "    unit = values[1]\n",
    "    scp = values[2]\n",
    "\n",
    "    for i in range(3, len(values), 5):\n",
    "        vec = values[i:i+5]\n",
    "\n",
    "        if vec[0] == \"08-01-13\" and vec[1] == \"00:00:00\" and vec[2] == 'REGULAR':\n",
    "            filtered_data = [sta, unit, scp, 31, 0, int(vec[3]), int(vec[4])]\n",
    "            reduced.append(filtered_data)\n",
    "\n",
    "        if vec[0] == \"08-02-13\" and vec[1] == \"00:00:00\" and vec[2] == 'REGULAR':\n",
    "            filtered_data = [sta, unit, scp, 31, 24, int(vec[3]), int(vec[4])]\n",
    "            reduced.append(filtered_data)\n",
    "    return reduced"
   ]
  },
  {
   "cell_type": "code",
   "execution_count": 75,
   "metadata": {
    "collapsed": true
   },
   "outputs": [],
   "source": [
    "def test_consecutive_pair(datalist):\n",
    "    i = 0\n",
    "    unpaired = False\n",
    "\n",
    "    while i < len(datalist) - 1:\n",
    "\n",
    "        j = i + 1\n",
    "        if datalist[i][0] != datalist[j][0]:\n",
    "            # print \"line pair has different sta:\", i, j\n",
    "            unpaired = True\n",
    "        if datalist[i][1] != datalist[j][1]:\n",
    "            # print \"line pair has different unit:\", i, j\n",
    "            unpaired = True\n",
    "        if datalist[i][2] != datalist[j][2]:\n",
    "            # print \"line pair has different scp:\", i, j\n",
    "            unpaired = True\n",
    "\n",
    "        if unpaired:\n",
    "            print \"[Note] Unpaired entry. Index: \" + str(i) + \"  data: \" + str(datalist[i])\n",
    "            unpaired = False\n",
    "            i += 1\n",
    "\n",
    "        else:\n",
    "            i = i + 2"
   ]
  },
  {
   "cell_type": "markdown",
   "metadata": {},
   "source": [
    "The <b>join_consecutive_pairs()</b> function merges turnstile records at time = 0 with the corresponding record at time = 24. It creates a single record from these two records. <p>\n",
    "\n",
    "Some tunrstile machines have a record at time = 0 but no record at time = 24. Others have the opposite problem. Machines that show this problem are excluded from the data using this function. <b>Note: </b> In the future we may re-insert these machines especially if they show availability of measurements slightly later than t = 0 or slightly earlier than t = 24. <p>\n",
    "\n",
    "Args: <p>\n",
    "    datalist: (list of lists) The data extracted using the <b>filtered_entries_exits_per_day()</b> function <p>\n",
    "Returns: <p>\n",
    "    An array of lists where each list represents data for a single turnstitle measure at time t = 0 and t = 24. The format is: <p>\n",
    "    \n",
    "  ca (str), unit (str), scp (str), day (int), entries_0 (int), exits_0 (int), entries_24 (int), exits_24 (int)\n",
    "    "
   ]
  },
  {
   "cell_type": "code",
   "execution_count": 76,
   "metadata": {
    "collapsed": true
   },
   "outputs": [],
   "source": [
    "def join_consecutive_pair(datalist):\n",
    "    i = 0\n",
    "    unpaired = False\n",
    "\n",
    "    joined_list = []\n",
    "\n",
    "    while i < len(datalist) - 1:\n",
    "\n",
    "        j = i + 1\n",
    "        if datalist[i][0] != datalist[j][0]:\n",
    "            # print \"line pair has different sta:\", i, j\n",
    "            unpaired = True\n",
    "        if datalist[i][1] != datalist[j][1]:\n",
    "            # print \"line pair has different unit:\", i, j\n",
    "            unpaired = True\n",
    "        if datalist[i][2] != datalist[j][2]:\n",
    "            # print \"line pair has different scp:\", i, j\n",
    "            unpaired = True\n",
    "\n",
    "        if unpaired:\n",
    "            print \"[Note] Excluding unpaired item... Index: \" + str(i) + \"  data: \" + str(datalist[i])\n",
    "            unpaired = False\n",
    "            i += 1\n",
    "\n",
    "        else:\n",
    "            vec = [datalist[i][0], datalist[i][1], datalist[i][2], datalist[i][3],\n",
    "                   datalist[i][5], datalist[i][6], datalist[j][5], datalist[j][6]]\n",
    "            joined_list.append(vec)\n",
    "            i = i + 2\n",
    "\n",
    "    return joined_list"
   ]
  },
  {
   "cell_type": "markdown",
   "metadata": {},
   "source": [
    "Execute the <b>filtered_entries_exits_per_day()</b> function. Remember that num_lines controls the number of lines to process from the raw-data file (URL). A value of -1 forces processing of all lines. "
   ]
  },
  {
   "cell_type": "code",
   "execution_count": 77,
   "metadata": {
    "collapsed": false
   },
   "outputs": [
    {
     "name": "stdout",
     "output_type": "stream",
     "text": [
      "[Info] Total number of lines:  29427\n",
      "[Info] Number of lines with info about the selected day:  4725\n"
     ]
    }
   ],
   "source": [
    "parsed_res = filtered_entries_exits_per_day(constants[\"url_0803\"], day=\"08-01-13\", num_lines=-1)\n",
    "\n",
    "print \"[Info] Number of lines with info about the selected day: \", len(parsed_res)"
   ]
  },
  {
   "cell_type": "markdown",
   "metadata": {},
   "source": [
    "Execute the <b>join_consecutive_pair()</b> function. Remember that this function will exclude machines for which we do not have a complete pair of measurements at time = 0 or at time = 24. Running this function displays the list of excluded turnstile machines. <p>\n",
    "\n",
    "After running the function, the data, which existed as an array of lists, is converted into a pandas dataframe for analysis. In addition to the original data, we compute the following information (added as columns to the dataframe): \n",
    "\n",
    "<ul>\n",
    "<li> Column 'ent_diff' contains the difference of entries between time = 24 and time = 0. This number represents the actual entries during a single day.\n",
    "<li> Column 'exit_diff' contains the different of exit counts between time = 24 and time = 0. This number represents the actual exits during a single day.\n",
    "<li> Column 'busy' contains the sum of 'ent_diff' and 'exit_diff'. It measures how busy the turnstile machine was on a given day. \n",
    "\n",
    "</ul>\n",
    "\n"
   ]
  },
  {
   "cell_type": "code",
   "execution_count": 78,
   "metadata": {
    "collapsed": false
   },
   "outputs": [
    {
     "name": "stdout",
     "output_type": "stream",
     "text": [
      "[Note] Excluding unpaired item... Index: 204  data: ['A039', 'R085', '01-00-02', 31, 24, 958191, 669993]\n",
      "[Note] Excluding unpaired item... Index: 741  data: ['E004', 'R234', '00-00-00', 31, 0, 3639800, 3479320]\n",
      "[Note] Excluding unpaired item... Index: 742  data: ['E004', 'R234', '00-00-01', 31, 0, 3991477, 4088425]\n",
      "[Note] Excluding unpaired item... Index: 743  data: ['E004', 'R234', '00-00-02', 31, 0, 2027227, 2095590]\n",
      "[Note] Excluding unpaired item... Index: 834  data: ['H008', 'R248', '01-00-00', 31, 0, 343928, 4846118]\n",
      "[Note] Excluding unpaired item... Index: 1551  data: ['N091', 'R029', '02-00-00', 31, 24, 2829184, 837727]\n",
      "[Note] Excluding unpaired item... Index: 1552  data: ['N091', 'R029', '02-00-01', 31, 24, 4794622, 2900031]\n",
      "[Note] Excluding unpaired item... Index: 1553  data: ['N091', 'R029', '02-00-02', 31, 24, 5994828, 4800702]\n",
      "[Note] Excluding unpaired item... Index: 1554  data: ['N091', 'R029', '02-00-03', 31, 24, 4985914, 4981513]\n",
      "[Note] Excluding unpaired item... Index: 1555  data: ['N091', 'R029', '02-00-04', 31, 24, 3999448, 4177461]\n",
      "[Note] Excluding unpaired item... Index: 1556  data: ['N091', 'R029', '02-00-05', 31, 24, 10243340, 8876962]\n",
      "[Note] Excluding unpaired item... Index: 1557  data: ['N091', 'R029', '02-06-00', 31, 24, 3156900, 766850]\n",
      "[Note] Excluding unpaired item... Index: 1558  data: ['N091', 'R029', '02-06-01', 31, 24, 5726667, 5832704]\n"
     ]
    }
   ],
   "source": [
    "dataout = join_consecutive_pair(parsed_res)\n",
    "\n",
    "pdf = pd.DataFrame(dataout, columns=['ca', 'unit', 'scp', 'day', 'ent_init', 'exit_init', 'ent_final', 'exit_final'])\n",
    "\n",
    "pdf[\"ent_diff\"] = pdf[\"ent_final\"] - pdf[\"ent_init\"]\n",
    "pdf[\"exit_diff\"] = pdf[\"exit_final\"] - pdf[\"exit_init\"]\n",
    "pdf[\"busy\"] = pdf[\"ent_diff\"] + pdf[\"exit_diff\"]"
   ]
  },
  {
   "cell_type": "markdown",
   "metadata": {},
   "source": [
    "This block of code checks to see if there are machines whose counters have been reset during the target day. A machine has been reset if the counter at the end of the day is smaller than the counter at the beginning of the day (for entries or for exits). Because we do not know why the machine has been reset (probably due to failure), these machines do not contain clean information about entries and exits. Consequently, the difference data (entries, exits) and the busy-ness index for these machines are set to 0. The machines do not contribute to the aggregated daily statistics. "
   ]
  },
  {
   "cell_type": "code",
   "execution_count": 79,
   "metadata": {
    "collapsed": false
   },
   "outputs": [
    {
     "name": "stdout",
     "output_type": "stream",
     "text": [
      "\n",
      "[Note:] Number of machines whose entry counter has been reset on 8/1/13: 1\n",
      "[Note:] These machines cannot be used for computing daily stats.\n",
      "List of machines with entry reset values:\n",
      "        ca  unit       scp  ent_init  ent_final\n",
      "1225  N504  R021  02-00-04   5156751       4075\n"
     ]
    }
   ],
   "source": [
    "idxlist1 = pdf[pdf[\"ent_diff\"] < 0].index\n",
    "if len(idxlist1) > 0:\n",
    "    print \"\\n[Note:] Number of machines whose entry counter has been reset on 8/1/13:\", len(idxlist1)\n",
    "    print \"[Note:] These machines cannot be used for computing daily stats.\"\n",
    "    print \"List of machines with entry reset values:\"\n",
    "    for ind in idxlist1:\n",
    "        print pdf.ix[[ind], [\"ca\", \"unit\", \"scp\", \"ent_init\", \"ent_final\"]]\n",
    "        pdf.set_value(ind, \"ent_diff\", 0)\n",
    "        pdf.set_value(ind, \"exit_diff\", 0)\n",
    "        pdf.set_value(ind, \"busy\", 0)\n",
    "\n",
    "idxlist2 = pdf[pdf[\"exit_diff\"] < 0].index\n",
    "if len(idxlist2) > 0:\n",
    "    print \"\\n[Note:] Number of machines whose exit counter has been reset on 8/1/13:\", len(idxlist2)\n",
    "    print \"[Note:] These machines cannot be used for computing daily stats. \"\n",
    "    print \"List of machines with exit reset values:\"\n",
    "    for ind in idxlist2:\n",
    "        print pdf.ix[[ind], [\"ca\", \"unit\", \"scp\", \"ent_init\", \"ent_final\"]]"
   ]
  },
  {
   "cell_type": "markdown",
   "metadata": {},
   "source": [
    "<h4>Results: Total number of entries and exists registered on 8/1/13</h4>"
   ]
  },
  {
   "cell_type": "code",
   "execution_count": 80,
   "metadata": {
    "collapsed": false
   },
   "outputs": [
    {
     "name": "stdout",
     "output_type": "stream",
     "text": [
      "[Result] Sum of all entries registerd for all machines on 8/1/13:  3185978\n",
      "[Result] sum of all exits registered for all machines on 8/1/13:  2518992\n"
     ]
    }
   ],
   "source": [
    "print \"[Result] Sum of all entries registerd for all machines on 8/1/13: \", sum(pdf.ent_diff)\n",
    "print \"[Result] sum of all exits registered for all machines on 8/1/13: \", sum(pdf.exit_diff)"
   ]
  },
  {
   "cell_type": "markdown",
   "metadata": {},
   "source": [
    "<h4> Results: Busiest station on 8/1/13</h4>"
   ]
  },
  {
   "cell_type": "code",
   "execution_count": 81,
   "metadata": {
    "collapsed": false
   },
   "outputs": [
    {
     "name": "stdout",
     "output_type": "stream",
     "text": [
      "[Result] The busiest station on 8/1/13 is  R238\n",
      "[Result] The busy score for this station is  130881\n"
     ]
    }
   ],
   "source": [
    "grouped = pdf.groupby(\"ca\")[\"busy\"].sum()\n",
    "\n",
    "print \"[Result] The busiest station on 8/1/13 is \", grouped.idxmax()\n",
    "print \"[Result] The busy score for this station is \", grouped[grouped.idxmax()]"
   ]
  },
  {
   "cell_type": "markdown",
   "metadata": {},
   "source": [
    "<h4>Results: Busiest turnstile</h4>"
   ]
  },
  {
   "cell_type": "code",
   "execution_count": 82,
   "metadata": {
    "collapsed": false
   },
   "outputs": [
    {
     "name": "stdout",
     "output_type": "stream",
     "text": [
      "[Result] Busiest turnstile: \n",
      "         ca: N063A   unit: R011   scp: 00-00-00\n"
     ]
    }
   ],
   "source": [
    "max_ind = pdf.busy.idxmax()\n",
    "# print \"index of busiest entry: \", max_ind\n",
    "resultvals =  pdf.ix[max_ind, [\"ca\", \"unit\", \"scp\"]]\n",
    "\n",
    "print \"[Result] Busiest turnstile: \"\n",
    "print \"         ca: %s   unit: %s   scp: %s\" %(resultvals[\"ca\"], resultvals[\"unit\"], resultvals[\"scp\"])"
   ]
  }
 ],
 "metadata": {
  "anaconda-cloud": {},
  "kernelspec": {
   "display_name": "Python [Root]",
   "language": "python",
   "name": "Python [Root]"
  },
  "language_info": {
   "codemirror_mode": {
    "name": "ipython",
    "version": 2
   },
   "file_extension": ".py",
   "mimetype": "text/x-python",
   "name": "python",
   "nbconvert_exporter": "python",
   "pygments_lexer": "ipython2",
   "version": "2.7.12"
  }
 },
 "nbformat": 4,
 "nbformat_minor": 0
}
